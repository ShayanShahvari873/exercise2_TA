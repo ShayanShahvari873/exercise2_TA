{
 "cells": [
  {
   "cell_type": "code",
   "execution_count": 31,
   "id": "851a1be6-759a-4a02-8b0a-f6f97346a95f",
   "metadata": {},
   "outputs": [
    {
     "name": "stdout",
     "output_type": "stream",
     "text": [
      "10\n"
     ]
    }
   ],
   "source": [
    "def sum_of_list(int_list):  # write a function sum_of_list\n",
    "    return sum(int_list)\n",
    "int_list = [1,2,3,4]        # create a list of random number\n",
    "output = sum_of_list(int_list)   \n",
    "print(output)"
   ]
  },
  {
   "cell_type": "code",
   "execution_count": 33,
   "id": "3a52a9ff-a173-4440-b907-4e263b726f5b",
   "metadata": {},
   "outputs": [
    {
     "name": "stdout",
     "output_type": "stream",
     "text": [
      "True\n"
     ]
    }
   ],
   "source": [
    "def check_key(dictionary, key):    # write a function that accept ditionary and key\n",
    "    return key in dictionary\n",
    "exists = check_key({'a': 1, 'b': 2}, 'a') # check if a is in the function or not\n",
    "print(exists)"
   ]
  },
  {
   "cell_type": "code",
   "execution_count": 37,
   "id": "cae20e7f-f43e-4ecb-9a89-e09dc92008b5",
   "metadata": {},
   "outputs": [
    {
     "name": "stdout",
     "output_type": "stream",
     "text": [
      "nayahs\n"
     ]
    }
   ],
   "source": [
    "def reverse_string(s):    # write a function for reverse\n",
    "    return s[::-1]        #  [start : end : -1] that means start at the end \n",
    "reverse_str = reverse_string(\"shayan\")\n",
    "print(reverse_str)"
   ]
  }
 ],
 "metadata": {
  "kernelspec": {
   "display_name": "Python 3 (ipykernel)",
   "language": "python",
   "name": "python3"
  },
  "language_info": {
   "codemirror_mode": {
    "name": "ipython",
    "version": 3
   },
   "file_extension": ".py",
   "mimetype": "text/x-python",
   "name": "python",
   "nbconvert_exporter": "python",
   "pygments_lexer": "ipython3",
   "version": "3.12.4"
  }
 },
 "nbformat": 4,
 "nbformat_minor": 5
}
